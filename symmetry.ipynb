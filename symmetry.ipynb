{
 "cells": [
  {
   "cell_type": "code",
   "execution_count": 7,
   "id": "6ea5437d",
   "metadata": {},
   "outputs": [],
   "source": [
    "import numpy as np\n",
    "from mp_api.client import MPRester\n",
    "from pymatgen.core.operations import SymmOp\n",
    "from pymatgen.symmetry.analyzer import SpacegroupAnalyzer\n",
    "from pymatgen.electronic_structure.plotter import BSPlotter\n",
    "from pymatgen.phonon.plotter import PhononBSPlotter\n",
    "from jupyter_jsmol.pymatgen import quick_view\n",
    "from lmapr1492 import plot_brillouin_zone, get_plot_bs, get_plot_dos, get_plot_bs_and_dos, get_branch_wavevectors\n",
    "from plotly.subplots import make_subplots\n",
    "import plotly.graph_objects as go"
   ]
  },
  {
   "cell_type": "code",
   "execution_count": 8,
   "id": "540a18a2",
   "metadata": {},
   "outputs": [],
   "source": [
    "mp_key = \"kUNltwLCR9AdLypQdV0AJRVJ3G9Yb7B8\"\n",
    "mp_id = \"mp-8426\""
   ]
  },
  {
   "cell_type": "code",
   "execution_count": 9,
   "id": "f00dced5",
   "metadata": {},
   "outputs": [
    {
     "data": {
      "application/vnd.jupyter.widget-view+json": {
       "model_id": "708311a32e4946be844af2501bfb4d5f",
       "version_major": 2,
       "version_minor": 0
      },
      "text/plain": [
       "Retrieving MaterialsDoc documents:   0%|          | 0/1 [00:00<?, ?it/s]"
      ]
     },
     "metadata": {},
     "output_type": "display_data"
    },
    {
     "data": {
      "application/vnd.jupyter.widget-view+json": {
       "model_id": "89db5aca164143bcacb225c39c372d68",
       "version_major": 2,
       "version_minor": 0
      },
      "text/plain": [
       "Retrieving ElectronicStructureDoc documents:   0%|          | 0/1 [00:00<?, ?it/s]"
      ]
     },
     "metadata": {},
     "output_type": "display_data"
    },
    {
     "data": {
      "application/vnd.jupyter.widget-view+json": {
       "model_id": "2e45046f0c93482eaec84b4bbea7d80a",
       "version_major": 2,
       "version_minor": 0
      },
      "text/plain": [
       "Retrieving ElectronicStructureDoc documents:   0%|          | 0/1 [00:00<?, ?it/s]"
      ]
     },
     "metadata": {},
     "output_type": "display_data"
    },
    {
     "data": {
      "application/vnd.jupyter.widget-view+json": {
       "model_id": "1b1ed2d330a74d05b4f90886c3da850f",
       "version_major": 2,
       "version_minor": 0
      },
      "text/plain": [
       "Retrieving PhononBSDOSDoc documents:   0%|          | 0/1 [00:00<?, ?it/s]"
      ]
     },
     "metadata": {},
     "output_type": "display_data"
    },
    {
     "data": {
      "application/vnd.jupyter.widget-view+json": {
       "model_id": "0690a9a2881a42ba8f9ed373a560d966",
       "version_major": 2,
       "version_minor": 0
      },
      "text/plain": [
       "Retrieving PhononBSDOSDoc documents:   0%|          | 0/1 [00:00<?, ?it/s]"
      ]
     },
     "metadata": {},
     "output_type": "display_data"
    }
   ],
   "source": [
    "with MPRester(mp_key) as m:\n",
    "    prim_struc = m.get_structure_by_material_id(mp_id)\n",
    "    el_bs = m.get_bandstructure_by_material_id(mp_id)\n",
    "    el_dos = m.get_dos_by_material_id(mp_id)\n",
    "    ph_bs = m.get_phonon_bandstructure_by_material_id(mp_id)\n",
    "    ph_dos = m.get_phonon_dos_by_material_id(mp_id)\n",
    "conv_struc = SpacegroupAnalyzer(prim_struc).get_conventional_standard_structure()\n",
    "symmops = SpacegroupAnalyzer(conv_struc).get_space_group_operations()"
   ]
  },
  {
   "cell_type": "code",
   "execution_count": 10,
   "id": "ddcb60c0",
   "metadata": {},
   "outputs": [
    {
     "data": {
      "application/vnd.jupyter.widget-view+json": {
       "model_id": "cd4c0979e84b4772ba6413f96d32db0b",
       "version_major": 2,
       "version_minor": 0
      },
      "text/plain": [
       "JsmolView(layout=Layout(align_self='stretch', height='400px'))"
      ]
     },
     "metadata": {},
     "output_type": "display_data"
    }
   ],
   "source": [
    "view = quick_view(conv_struc)\n",
    "display(view)"
   ]
  },
  {
   "cell_type": "code",
   "execution_count": 11,
   "id": "15d58f94",
   "metadata": {},
   "outputs": [],
   "source": [
    "sym = SpacegroupAnalyzer(conv_struc).get_symmetry_operations()\n",
    "\n",
    "#Atomes sélectionnés\n",
    "Se1 = [1.0,1.0,1.0]\n",
    "K = [0.25,0.25,0.25]\n",
    "Se2 = [1.0,0.5,0.5]\n",
    "\n",
    "\n",
    "\n",
    "S1 = sym[1]\n",
    "S2 = sym[6]\n",
    "S3 = sym[9]\n",
    "\n",
    "\n",
    "Se1_sym = S1.operate(Se1)\n",
    "K_sym = S2.operate(K)\n",
    "Se2_sym = S3.operate(Se2)\n",
    "\n",
    "#print(S1)\n",
    "#print(S2)\n",
    "#print(S3)\n"
   ]
  },
  {
   "cell_type": "code",
   "execution_count": 15,
   "id": "e8ce9949",
   "metadata": {
    "scrolled": true
   },
   "outputs": [
    {
     "name": "stdout",
     "output_type": "stream",
     "text": [
      "L'atome de départ a comme coordonnées: [1.0, 1.0, 1.0]\n",
      "\n",
      "L'opérartion est une symétrie centrale par rapport au point origine. \n",
      "\n",
      "Rot:\n",
      "[[-1.  0.  0.]\n",
      " [ 0. -1.  0.]\n",
      " [ 0.  0. -1.]]\n",
      "tau\n",
      "[0. 0. 0.] \n",
      "\n",
      "L'opération se calcule donc de la façon suivante : \n",
      "\n",
      "[[-1.  0.  0.]\n",
      " [ 0. -1.  0.]\n",
      " [ 0.  0. -1.]] * [1.0, 1.0, 1.0] + [0. 0. 0.] \n",
      "\n",
      "L'atome d'arrivé a comme coordonnées : [-1. -1. -1.]\n",
      "\n"
     ]
    },
    {
     "data": {
      "application/vnd.jupyter.widget-view+json": {
       "model_id": "762968d90e7744ceaf7cdf155ccb2804",
       "version_major": 2,
       "version_minor": 0
      },
      "text/plain": [
       "JsmolView(layout=Layout(align_self='stretch', height='400px'))"
      ]
     },
     "metadata": {},
     "output_type": "display_data"
    }
   ],
   "source": [
    "print(\"L'atome de départ a comme coordonnées: {}\\n\".format(Se1))\n",
    "\n",
    "print(\"L'opérartion est une symétrie centrale par rapport au point origine. \\n\")\n",
    "print(S1, \"\\n\")\n",
    "\n",
    "print(\"L'opération se calcule donc de la façon suivante : \\n\")\n",
    "print(S1.rotation_matrix, \"*\", Se1, '+', S1.translation_vector, \"\\n\")\n",
    "\n",
    "print(\"L'atome d'arrivé a comme coordonnées : {}\\n\".format(Se1_sym))\n",
    "\n",
    "#Représentation selon jupyter-jsmol\n",
    "view = quick_view(conv_struc,supercell=[1,1,1])\n",
    "display(view)\n",
    "view.script('draw symop 2 {atomno = 4}; select atomno=4; label on; color red')"
   ]
  },
  {
   "cell_type": "code",
   "execution_count": 13,
   "id": "0524f31f",
   "metadata": {},
   "outputs": [
    {
     "name": "stdout",
     "output_type": "stream",
     "text": [
      "L'atome de départ a comme coordonnées: [0.25, 0.25, 0.25]\n",
      "\n",
      "L'opérartion est une rotation de 90 degrés dans le plan xy. \n",
      "\n",
      "Rot:\n",
      "[[ 0.  1.  0.]\n",
      " [-1.  0.  0.]\n",
      " [ 0.  0.  1.]]\n",
      "tau\n",
      "[0. 0. 0.] \n",
      "\n",
      "L'opération se calcule donc de la façon suivante : \n",
      "\n",
      "[[ 0.  1.  0.]\n",
      " [-1.  0.  0.]\n",
      " [ 0.  0.  1.]] * [0.25, 0.25, 0.25] + [0. 0. 0.] \n",
      "\n",
      "L'atome d'arrivé a comme coordonnées : [ 0.25 -0.25  0.25]\n",
      "\n"
     ]
    },
    {
     "data": {
      "application/vnd.jupyter.widget-view+json": {
       "model_id": "a83a943388ef4e2fbd05eb14217b7e28",
       "version_major": 2,
       "version_minor": 0
      },
      "text/plain": [
       "JsmolView(layout=Layout(align_self='stretch', height='400px'))"
      ]
     },
     "metadata": {},
     "output_type": "display_data"
    }
   ],
   "source": [
    "print(\"L'atome de départ a comme coordonnées: {}\\n\".format(K))\n",
    "\n",
    "print(\"L'opérartion est une rotation de 90 degrés dans le plan xy. \\n\")\n",
    "print(S2, \"\\n\")\n",
    "\n",
    "print(\"L'opération se calcule donc de la façon suivante : \\n\")\n",
    "\n",
    "\n",
    "print(S2.rotation_matrix, \"*\", K, '+', S2.translation_vector, \"\\n\")\n",
    "\n",
    "print(\"L'atome d'arrivé a comme coordonnées : {}\\n\".format(K_sym))\n",
    "\n",
    "#Représentation selon jupyter-jsmol\n",
    "view = quick_view(conv_struc,supercell=[1,1,1])\n",
    "display(view)\n",
    "view.script('draw symop 7 {atomno = 1}; select atomno=1; label on; color red')"
   ]
  },
  {
   "cell_type": "code",
   "execution_count": 14,
   "id": "eb1b88c7",
   "metadata": {},
   "outputs": [
    {
     "name": "stdout",
     "output_type": "stream",
     "text": [
      "L'atome de départ a comme coordonnées: [1.0, 0.5, 0.5]\n",
      "\n",
      "L'opérartion est une symétrie miroir par rapport au plan yz. \n",
      "\n",
      "Rot:\n",
      "[[-1.  0.  0.]\n",
      " [ 0.  1.  0.]\n",
      " [ 0.  0.  1.]]\n",
      "tau\n",
      "[0. 0. 0.] \n",
      "\n",
      "L'opération se calcule donc de la façon suivante : \n",
      "\n",
      "[[-1.  0.  0.]\n",
      " [ 0.  1.  0.]\n",
      " [ 0.  0.  1.]] * [1.0, 0.5, 0.5] + [0. 0. 0.] \n",
      "\n",
      "L'atome d'arrivé a comme coordonnées : [-1.   0.5  0.5]\n",
      "\n"
     ]
    },
    {
     "data": {
      "application/vnd.jupyter.widget-view+json": {
       "model_id": "38eb84950bc345899219bf40c2112937",
       "version_major": 2,
       "version_minor": 0
      },
      "text/plain": [
       "JsmolView(layout=Layout(align_self='stretch', height='400px'))"
      ]
     },
     "metadata": {},
     "output_type": "display_data"
    }
   ],
   "source": [
    "print(\"L'atome de départ a comme coordonnées: {}\\n\".format(Se2))\n",
    "\n",
    "print(\"L'opérartion est une symétrie miroir par rapport au plan yz. \\n\")\n",
    "print(S3, \"\\n\")\n",
    "\n",
    "print(\"L'opération se calcule donc de la façon suivante : \\n\")\n",
    "\n",
    "print(S3.rotation_matrix, \"*\", Se2, '+', S3.translation_vector, \"\\n\")\n",
    "\n",
    "print(\"L'atome d'arrivé a comme coordonnées : {}\\n\".format(Se2_sym))\n",
    "\n",
    "#Représentation selon jupyter-jsmol\n",
    "view = quick_view(conv_struc,supercell=[1,1,1])\n",
    "display(view)\n",
    "view.script('draw symop 10 {atomno = 22}; select atomno=22; label on; color red')"
   ]
  },
  {
   "cell_type": "code",
   "execution_count": null,
   "id": "7ef959eb",
   "metadata": {},
   "outputs": [],
   "source": []
  }
 ],
 "metadata": {
  "kernelspec": {
   "display_name": "Python 3 (ipykernel)",
   "language": "python",
   "name": "python3"
  },
  "language_info": {
   "codemirror_mode": {
    "name": "ipython",
    "version": 3
   },
   "file_extension": ".py",
   "mimetype": "text/x-python",
   "name": "python",
   "nbconvert_exporter": "python",
   "pygments_lexer": "ipython3",
   "version": "3.9.13"
  }
 },
 "nbformat": 4,
 "nbformat_minor": 5
}
